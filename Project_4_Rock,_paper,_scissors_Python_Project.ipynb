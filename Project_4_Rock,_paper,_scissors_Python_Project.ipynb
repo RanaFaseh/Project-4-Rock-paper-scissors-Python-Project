{
  "nbformat": 4,
  "nbformat_minor": 0,
  "metadata": {
    "colab": {
      "provenance": [],
      "authorship_tag": "ABX9TyO4wWqwlahllGGpIWGRAdv0",
      "include_colab_link": true
    },
    "kernelspec": {
      "name": "python3",
      "display_name": "Python 3"
    },
    "language_info": {
      "name": "python"
    }
  },
  "cells": [
    {
      "cell_type": "markdown",
      "metadata": {
        "id": "view-in-github",
        "colab_type": "text"
      },
      "source": [
        "<a href=\"https://colab.research.google.com/github/RanaFaseh/Project-4-Rock-paper-scissors-Python-Project/blob/main/Project_4_Rock%2C_paper%2C_scissors_Python_Project.ipynb\" target=\"_parent\"><img src=\"https://colab.research.google.com/assets/colab-badge.svg\" alt=\"Open In Colab\"/></a>"
      ]
    },
    {
      "cell_type": "code",
      "execution_count": 2,
      "metadata": {
        "colab": {
          "base_uri": "https://localhost:8080/"
        },
        "id": "GqsMpIYtSZzv",
        "outputId": "0d15c782-4a7b-4e4d-bba8-aeadc614d565"
      },
      "outputs": [
        {
          "output_type": "stream",
          "name": "stdout",
          "text": [
            "What's your choice? 'r' for rock, 'p' for paper, 's' for scissors\n",
            "t\n",
            "You chose t and the computer chose s. You lost :(\n",
            "\n",
            "What's your choice? 'r' for rock, 'p' for paper, 's' for scissors\n",
            "r\n",
            "It is a tie. You and the computer have both chosen r. \n",
            "\n",
            "What's your choice? 'r' for rock, 'p' for paper, 's' for scissors\n",
            "r\n",
            "It is a tie. You and the computer have both chosen r. \n",
            "\n",
            "What's your choice? 'r' for rock, 'p' for paper, 's' for scissors\n",
            "r\n",
            "What's your choice? 'r' for rock, 'p' for paper, 's' for scissors\n",
            "\n",
            "It is a tie. You and the computer have both chosen r. \n",
            "\n",
            "You chose  and the computer chose p. You lost :(\n",
            "\n",
            "Unfortunately, the computer has won the best of 3 games. Better luck next time!\n"
          ]
        }
      ],
      "source": [
        "import random\n",
        "import math\n",
        "\n",
        "def play():\n",
        "    user = input(\"What's your choice? 'r' for rock, 'p' for paper, 's' for scissors\\n\")\n",
        "    user = user.lower()\n",
        "\n",
        "    computer = random.choice(['r', 'p', 's'])\n",
        "\n",
        "    if user == computer:\n",
        "        return (0, user, computer)\n",
        "\n",
        "\n",
        "    if is_win(user, computer):\n",
        "        return (1, user, computer)\n",
        "\n",
        "    return (-1, user, computer)\n",
        "\n",
        "def is_win(player, opponent):\n",
        "\n",
        "\n",
        "    if (player == 'r' and opponent == 's') or (player == 's' and opponent == 'p') or (player == 'p' and opponent == 'r'):\n",
        "        return True\n",
        "    return False\n",
        "\n",
        "def play_best_of(n):\n",
        "\n",
        "\n",
        "    player_wins = 0\n",
        "    computer_wins = 0\n",
        "    wins_necessary = math.ceil(n/2)\n",
        "    while player_wins < wins_necessary and computer_wins < wins_necessary:\n",
        "        result, user, computer = play()\n",
        "        # tie\n",
        "        if result == 0:\n",
        "            print('It is a tie. You and the computer have both chosen {}. \\n'.format(user))\n",
        "        # you win\n",
        "        elif result == 1:\n",
        "            player_wins += 1\n",
        "            print('You chose {} and the computer chose {}. You won!\\n'.format(user, computer))\n",
        "        else:\n",
        "            computer_wins += 1\n",
        "            print('You chose {} and the computer chose {}. You lost :(\\n'.format(user, computer))\n",
        "\n",
        "    if player_wins > computer_wins:\n",
        "        print('You have won the best of {} games! What a champ :D'.format(n))\n",
        "    else:\n",
        "        print('Unfortunately, the computer has won the best of {} games. Better luck next time!'.format(n))\n",
        "\n",
        "\n",
        "if __name__ == '__main__':\n",
        "    play_best_of(3)"
      ]
    }
  ]
}